{
 "cells": [
  {
   "cell_type": "code",
   "execution_count": 1,
   "id": "8f03d28f-0fc3-4a2f-ab81-3cb100b142c8",
   "metadata": {},
   "outputs": [],
   "source": [
    "import yfinance as yf\n",
    "import pandas as pd\n",
    "from sqlalchemy import create_engine, text\n",
    "from env import config"
   ]
  },
  {
   "cell_type": "code",
   "execution_count": 2,
   "id": "3623807f-f30c-4cb9-87cd-5e75b6383010",
   "metadata": {},
   "outputs": [
    {
     "data": {
      "text/plain": [
       "True"
      ]
     },
     "execution_count": 2,
     "metadata": {},
     "output_type": "execute_result"
    }
   ],
   "source": [
    "DATABASE_URL = config(\"DATABASE_URL\", cast=str, default=None)\n",
    "DATABASE_URL is not None"
   ]
  },
  {
   "cell_type": "code",
   "execution_count": 3,
   "id": "92ce7625-e298-486d-b0ad-d0bc846bfd62",
   "metadata": {},
   "outputs": [],
   "source": [
    "engine = create_engine(str(DATABASE_URL))"
   ]
  },
  {
   "cell_type": "code",
   "execution_count": 22,
   "id": "b0f9756e-c062-44f7-b08a-697125a0ea3c",
   "metadata": {},
   "outputs": [],
   "source": [
    "btc = yf.Ticker(\"BTC-USD\")\n",
    "df = btc.history(period=\"6mo\", interval=\"1h\")"
   ]
  },
  {
   "cell_type": "code",
   "execution_count": 23,
   "id": "b1ccc327-53f6-45a7-a0fb-bad9f2f85f55",
   "metadata": {},
   "outputs": [
    {
     "data": {
      "text/html": [
       "<div>\n",
       "<style scoped>\n",
       "    .dataframe tbody tr th:only-of-type {\n",
       "        vertical-align: middle;\n",
       "    }\n",
       "\n",
       "    .dataframe tbody tr th {\n",
       "        vertical-align: top;\n",
       "    }\n",
       "\n",
       "    .dataframe thead th {\n",
       "        text-align: right;\n",
       "    }\n",
       "</style>\n",
       "<table border=\"1\" class=\"dataframe\">\n",
       "  <thead>\n",
       "    <tr style=\"text-align: right;\">\n",
       "      <th></th>\n",
       "      <th>Open</th>\n",
       "      <th>High</th>\n",
       "      <th>Low</th>\n",
       "      <th>Close</th>\n",
       "      <th>Volume</th>\n",
       "      <th>Dividends</th>\n",
       "      <th>Stock Splits</th>\n",
       "    </tr>\n",
       "    <tr>\n",
       "      <th>Datetime</th>\n",
       "      <th></th>\n",
       "      <th></th>\n",
       "      <th></th>\n",
       "      <th></th>\n",
       "      <th></th>\n",
       "      <th></th>\n",
       "      <th></th>\n",
       "    </tr>\n",
       "  </thead>\n",
       "  <tbody>\n",
       "    <tr>\n",
       "      <th>2023-07-04 13:00:00+00:00</th>\n",
       "      <td>31051.222656</td>\n",
       "      <td>31060.732422</td>\n",
       "      <td>31000.140625</td>\n",
       "      <td>31007.480469</td>\n",
       "      <td>0</td>\n",
       "      <td>0.0</td>\n",
       "      <td>0.0</td>\n",
       "    </tr>\n",
       "    <tr>\n",
       "      <th>2023-07-04 14:00:00+00:00</th>\n",
       "      <td>31020.281250</td>\n",
       "      <td>31048.974609</td>\n",
       "      <td>30978.685547</td>\n",
       "      <td>30978.685547</td>\n",
       "      <td>0</td>\n",
       "      <td>0.0</td>\n",
       "      <td>0.0</td>\n",
       "    </tr>\n",
       "    <tr>\n",
       "      <th>2023-07-04 15:00:00+00:00</th>\n",
       "      <td>30980.777344</td>\n",
       "      <td>31011.117188</td>\n",
       "      <td>30910.167969</td>\n",
       "      <td>30953.216797</td>\n",
       "      <td>0</td>\n",
       "      <td>0.0</td>\n",
       "      <td>0.0</td>\n",
       "    </tr>\n",
       "    <tr>\n",
       "      <th>2023-07-04 16:00:00+00:00</th>\n",
       "      <td>30965.195312</td>\n",
       "      <td>31105.996094</td>\n",
       "      <td>30893.890625</td>\n",
       "      <td>30956.166016</td>\n",
       "      <td>0</td>\n",
       "      <td>0.0</td>\n",
       "      <td>0.0</td>\n",
       "    </tr>\n",
       "    <tr>\n",
       "      <th>2023-07-04 17:00:00+00:00</th>\n",
       "      <td>30959.703125</td>\n",
       "      <td>30994.113281</td>\n",
       "      <td>30884.324219</td>\n",
       "      <td>30899.199219</td>\n",
       "      <td>0</td>\n",
       "      <td>0.0</td>\n",
       "      <td>0.0</td>\n",
       "    </tr>\n",
       "    <tr>\n",
       "      <th>...</th>\n",
       "      <td>...</td>\n",
       "      <td>...</td>\n",
       "      <td>...</td>\n",
       "      <td>...</td>\n",
       "      <td>...</td>\n",
       "      <td>...</td>\n",
       "      <td>...</td>\n",
       "    </tr>\n",
       "    <tr>\n",
       "      <th>2024-01-04 09:00:00+00:00</th>\n",
       "      <td>42881.000000</td>\n",
       "      <td>43100.957031</td>\n",
       "      <td>42881.000000</td>\n",
       "      <td>43048.972656</td>\n",
       "      <td>0</td>\n",
       "      <td>0.0</td>\n",
       "      <td>0.0</td>\n",
       "    </tr>\n",
       "    <tr>\n",
       "      <th>2024-01-04 10:00:00+00:00</th>\n",
       "      <td>43051.113281</td>\n",
       "      <td>43121.242188</td>\n",
       "      <td>42761.101562</td>\n",
       "      <td>43114.976562</td>\n",
       "      <td>327573504</td>\n",
       "      <td>0.0</td>\n",
       "      <td>0.0</td>\n",
       "    </tr>\n",
       "    <tr>\n",
       "      <th>2024-01-04 11:00:00+00:00</th>\n",
       "      <td>43118.507812</td>\n",
       "      <td>43265.332031</td>\n",
       "      <td>43021.183594</td>\n",
       "      <td>43212.222656</td>\n",
       "      <td>7073792</td>\n",
       "      <td>0.0</td>\n",
       "      <td>0.0</td>\n",
       "    </tr>\n",
       "    <tr>\n",
       "      <th>2024-01-04 12:00:00+00:00</th>\n",
       "      <td>43215.875000</td>\n",
       "      <td>43430.929688</td>\n",
       "      <td>43159.660156</td>\n",
       "      <td>43410.617188</td>\n",
       "      <td>0</td>\n",
       "      <td>0.0</td>\n",
       "      <td>0.0</td>\n",
       "    </tr>\n",
       "    <tr>\n",
       "      <th>2024-01-04 13:00:00+00:00</th>\n",
       "      <td>43408.664062</td>\n",
       "      <td>43512.226562</td>\n",
       "      <td>43248.703125</td>\n",
       "      <td>43512.226562</td>\n",
       "      <td>2449408</td>\n",
       "      <td>0.0</td>\n",
       "      <td>0.0</td>\n",
       "    </tr>\n",
       "  </tbody>\n",
       "</table>\n",
       "<p>4416 rows × 7 columns</p>\n",
       "</div>"
      ],
      "text/plain": [
       "                                   Open          High           Low  \\\n",
       "Datetime                                                              \n",
       "2023-07-04 13:00:00+00:00  31051.222656  31060.732422  31000.140625   \n",
       "2023-07-04 14:00:00+00:00  31020.281250  31048.974609  30978.685547   \n",
       "2023-07-04 15:00:00+00:00  30980.777344  31011.117188  30910.167969   \n",
       "2023-07-04 16:00:00+00:00  30965.195312  31105.996094  30893.890625   \n",
       "2023-07-04 17:00:00+00:00  30959.703125  30994.113281  30884.324219   \n",
       "...                                 ...           ...           ...   \n",
       "2024-01-04 09:00:00+00:00  42881.000000  43100.957031  42881.000000   \n",
       "2024-01-04 10:00:00+00:00  43051.113281  43121.242188  42761.101562   \n",
       "2024-01-04 11:00:00+00:00  43118.507812  43265.332031  43021.183594   \n",
       "2024-01-04 12:00:00+00:00  43215.875000  43430.929688  43159.660156   \n",
       "2024-01-04 13:00:00+00:00  43408.664062  43512.226562  43248.703125   \n",
       "\n",
       "                                  Close     Volume  Dividends  Stock Splits  \n",
       "Datetime                                                                     \n",
       "2023-07-04 13:00:00+00:00  31007.480469          0        0.0           0.0  \n",
       "2023-07-04 14:00:00+00:00  30978.685547          0        0.0           0.0  \n",
       "2023-07-04 15:00:00+00:00  30953.216797          0        0.0           0.0  \n",
       "2023-07-04 16:00:00+00:00  30956.166016          0        0.0           0.0  \n",
       "2023-07-04 17:00:00+00:00  30899.199219          0        0.0           0.0  \n",
       "...                                 ...        ...        ...           ...  \n",
       "2024-01-04 09:00:00+00:00  43048.972656          0        0.0           0.0  \n",
       "2024-01-04 10:00:00+00:00  43114.976562  327573504        0.0           0.0  \n",
       "2024-01-04 11:00:00+00:00  43212.222656    7073792        0.0           0.0  \n",
       "2024-01-04 12:00:00+00:00  43410.617188          0        0.0           0.0  \n",
       "2024-01-04 13:00:00+00:00  43512.226562    2449408        0.0           0.0  \n",
       "\n",
       "[4416 rows x 7 columns]"
      ]
     },
     "execution_count": 23,
     "metadata": {},
     "output_type": "execute_result"
    }
   ],
   "source": [
    "df"
   ]
  },
  {
   "cell_type": "code",
   "execution_count": 24,
   "id": "bc97e676-000b-478a-a767-6f2c6e22c6f2",
   "metadata": {},
   "outputs": [
    {
     "data": {
      "text/plain": [
       "4416"
      ]
     },
     "execution_count": 24,
     "metadata": {},
     "output_type": "execute_result"
    }
   ],
   "source": [
    "table_name = \"btc_price_data\"\n",
    "df.to_sql(table_name, engine, if_exists='replace', index=True)"
   ]
  },
  {
   "cell_type": "code",
   "execution_count": 25,
   "id": "6d20cc85-c3e6-41a8-9fd0-93b025f8b776",
   "metadata": {},
   "outputs": [
    {
     "name": "stdout",
     "output_type": "stream",
     "text": [
      "[(datetime.datetime(2023, 7, 4, 13, 0), 31051.22265625, 31060.732421875, 31000.140625, 31007.48046875, 0, 0.0, 0.0), (datetime.datetime(2023, 7, 4, 14, 0), 31020.28125, 31048.974609375, 30978.685546875, 30978.685546875, 0, 0.0, 0.0), (datetime.datetime(2023, 7, 4, 15, 0), 30980.77734375, 31011.1171875, 30910.16796875, 30953.216796875, 0, 0.0, 0.0), (datetime.datetime(2023, 7, 4, 16, 0), 30965.1953125, 31105.99609375, 30893.890625, 30956.166015625, 0, 0.0, 0.0), (datetime.datetime(2023, 7, 4, 17, 0), 30959.703125, 30994.11328125, 30884.32421875, 30899.19921875, 0, 0.0, 0.0), (datetime.datetime(2023, 7, 4, 18, 0), 30895.5703125, 30939.51171875, 30853.421875, 30901.572265625, 0, 0.0, 0.0), (datetime.datetime(2023, 7, 4, 19, 0), 30909.501953125, 30915.03515625, 30659.35546875, 30711.66796875, 0, 0.0, 0.0), (datetime.datetime(2023, 7, 4, 20, 0), 30700.72265625, 30812.85546875, 30700.62109375, 30803.97265625, 0, 0.0, 0.0), (datetime.datetime(2023, 7, 4, 21, 0), 30809.564453125, 30826.189453125, 30766.03125, 30810.494140625, 0, 0.0, 0.0), (datetime.datetime(2023, 7, 4, 22, 0), 30805.6484375, 30819.912109375, 30777.28515625, 30819.912109375, 0, 0.0, 0.0)]\n"
     ]
    }
   ],
   "source": [
    "with engine.connect() as conn:\n",
    "    results = conn.execute(text(f\"SELECT * FROM {table_name} LIMIT 10\"))\n",
    "    print(results.all())"
   ]
  },
  {
   "cell_type": "code",
   "execution_count": null,
   "id": "fb2ffcd6-6287-41c0-be0c-e18371ebdaa5",
   "metadata": {},
   "outputs": [],
   "source": []
  }
 ],
 "metadata": {
  "kernelspec": {
   "display_name": "Python 3 (ipykernel)",
   "language": "python",
   "name": "python3"
  },
  "language_info": {
   "codemirror_mode": {
    "name": "ipython",
    "version": 3
   },
   "file_extension": ".py",
   "mimetype": "text/x-python",
   "name": "python",
   "nbconvert_exporter": "python",
   "pygments_lexer": "ipython3",
   "version": "3.8.18"
  }
 },
 "nbformat": 4,
 "nbformat_minor": 5
}
