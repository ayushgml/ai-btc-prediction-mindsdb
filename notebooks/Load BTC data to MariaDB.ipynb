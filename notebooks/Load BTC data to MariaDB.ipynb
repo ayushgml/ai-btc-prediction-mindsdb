{
 "cells": [
  {
   "cell_type": "code",
   "execution_count": 1,
   "id": "8f03d28f-0fc3-4a2f-ab81-3cb100b142c8",
   "metadata": {},
   "outputs": [],
   "source": [
    "import yfinance as yf\n",
    "import pandas as pd\n",
    "from sqlalchemy import create_engine, text\n",
    "from env import config"
   ]
  },
  {
   "cell_type": "code",
   "execution_count": 2,
   "id": "3623807f-f30c-4cb9-87cd-5e75b6383010",
   "metadata": {},
   "outputs": [
    {
     "data": {
      "text/plain": [
       "True"
      ]
     },
     "execution_count": 2,
     "metadata": {},
     "output_type": "execute_result"
    }
   ],
   "source": [
    "DATABASE_URL = config(\"DATABASE_URL\", cast=str, default=None)\n",
    "DATABASE_URL is not None"
   ]
  },
  {
   "cell_type": "code",
   "execution_count": 3,
   "id": "92ce7625-e298-486d-b0ad-d0bc846bfd62",
   "metadata": {},
   "outputs": [],
   "source": [
    "engine = create_engine(str(DATABASE_URL))"
   ]
  },
  {
   "cell_type": "code",
   "execution_count": 4,
   "id": "b0f9756e-c062-44f7-b08a-697125a0ea3c",
   "metadata": {},
   "outputs": [],
   "source": [
    "btc = yf.Ticker(\"BTC-USD\")\n",
    "df = btc.history(period=\"6mo\", interval=\"1h\")"
   ]
  },
  {
   "cell_type": "code",
   "execution_count": 5,
   "id": "b1ccc327-53f6-45a7-a0fb-bad9f2f85f55",
   "metadata": {},
   "outputs": [
    {
     "data": {
      "text/html": [
       "<div>\n",
       "<style scoped>\n",
       "    .dataframe tbody tr th:only-of-type {\n",
       "        vertical-align: middle;\n",
       "    }\n",
       "\n",
       "    .dataframe tbody tr th {\n",
       "        vertical-align: top;\n",
       "    }\n",
       "\n",
       "    .dataframe thead th {\n",
       "        text-align: right;\n",
       "    }\n",
       "</style>\n",
       "<table border=\"1\" class=\"dataframe\">\n",
       "  <thead>\n",
       "    <tr style=\"text-align: right;\">\n",
       "      <th></th>\n",
       "      <th>Open</th>\n",
       "      <th>High</th>\n",
       "      <th>Low</th>\n",
       "      <th>Close</th>\n",
       "      <th>Volume</th>\n",
       "      <th>Dividends</th>\n",
       "      <th>Stock Splits</th>\n",
       "    </tr>\n",
       "    <tr>\n",
       "      <th>Datetime</th>\n",
       "      <th></th>\n",
       "      <th></th>\n",
       "      <th></th>\n",
       "      <th></th>\n",
       "      <th></th>\n",
       "      <th></th>\n",
       "      <th></th>\n",
       "    </tr>\n",
       "  </thead>\n",
       "  <tbody>\n",
       "    <tr>\n",
       "      <th>2023-07-03 06:00:00+00:00</th>\n",
       "      <td>30674.599609</td>\n",
       "      <td>30681.171875</td>\n",
       "      <td>30628.228516</td>\n",
       "      <td>30646.968750</td>\n",
       "      <td>0</td>\n",
       "      <td>0.0</td>\n",
       "      <td>0.0</td>\n",
       "    </tr>\n",
       "    <tr>\n",
       "      <th>2023-07-03 07:00:00+00:00</th>\n",
       "      <td>30651.351562</td>\n",
       "      <td>30746.455078</td>\n",
       "      <td>30644.861328</td>\n",
       "      <td>30668.576172</td>\n",
       "      <td>287362048</td>\n",
       "      <td>0.0</td>\n",
       "      <td>0.0</td>\n",
       "    </tr>\n",
       "    <tr>\n",
       "      <th>2023-07-03 08:00:00+00:00</th>\n",
       "      <td>30675.458984</td>\n",
       "      <td>30695.072266</td>\n",
       "      <td>30618.410156</td>\n",
       "      <td>30645.914062</td>\n",
       "      <td>227468288</td>\n",
       "      <td>0.0</td>\n",
       "      <td>0.0</td>\n",
       "    </tr>\n",
       "    <tr>\n",
       "      <th>2023-07-03 09:00:00+00:00</th>\n",
       "      <td>30645.107422</td>\n",
       "      <td>30668.294922</td>\n",
       "      <td>30611.462891</td>\n",
       "      <td>30611.462891</td>\n",
       "      <td>64418816</td>\n",
       "      <td>0.0</td>\n",
       "      <td>0.0</td>\n",
       "    </tr>\n",
       "    <tr>\n",
       "      <th>2023-07-03 10:00:00+00:00</th>\n",
       "      <td>30612.115234</td>\n",
       "      <td>30666.218750</td>\n",
       "      <td>30605.658203</td>\n",
       "      <td>30652.933594</td>\n",
       "      <td>166940672</td>\n",
       "      <td>0.0</td>\n",
       "      <td>0.0</td>\n",
       "    </tr>\n",
       "    <tr>\n",
       "      <th>...</th>\n",
       "      <td>...</td>\n",
       "      <td>...</td>\n",
       "      <td>...</td>\n",
       "      <td>...</td>\n",
       "      <td>...</td>\n",
       "      <td>...</td>\n",
       "      <td>...</td>\n",
       "    </tr>\n",
       "    <tr>\n",
       "      <th>2024-01-03 02:00:00+00:00</th>\n",
       "      <td>45326.062500</td>\n",
       "      <td>45406.113281</td>\n",
       "      <td>45252.988281</td>\n",
       "      <td>45280.042969</td>\n",
       "      <td>0</td>\n",
       "      <td>0.0</td>\n",
       "      <td>0.0</td>\n",
       "    </tr>\n",
       "    <tr>\n",
       "      <th>2024-01-03 03:00:00+00:00</th>\n",
       "      <td>45294.312500</td>\n",
       "      <td>45318.109375</td>\n",
       "      <td>45206.195312</td>\n",
       "      <td>45264.617188</td>\n",
       "      <td>1206272</td>\n",
       "      <td>0.0</td>\n",
       "      <td>0.0</td>\n",
       "    </tr>\n",
       "    <tr>\n",
       "      <th>2024-01-03 04:00:00+00:00</th>\n",
       "      <td>45280.339844</td>\n",
       "      <td>45288.914062</td>\n",
       "      <td>45153.636719</td>\n",
       "      <td>45193.871094</td>\n",
       "      <td>5404672</td>\n",
       "      <td>0.0</td>\n",
       "      <td>0.0</td>\n",
       "    </tr>\n",
       "    <tr>\n",
       "      <th>2024-01-03 05:00:00+00:00</th>\n",
       "      <td>45196.199219</td>\n",
       "      <td>45301.718750</td>\n",
       "      <td>45159.972656</td>\n",
       "      <td>45194.214844</td>\n",
       "      <td>34723840</td>\n",
       "      <td>0.0</td>\n",
       "      <td>0.0</td>\n",
       "    </tr>\n",
       "    <tr>\n",
       "      <th>2024-01-03 06:00:00+00:00</th>\n",
       "      <td>45195.441406</td>\n",
       "      <td>45228.691406</td>\n",
       "      <td>45178.714844</td>\n",
       "      <td>45228.691406</td>\n",
       "      <td>40957952</td>\n",
       "      <td>0.0</td>\n",
       "      <td>0.0</td>\n",
       "    </tr>\n",
       "  </tbody>\n",
       "</table>\n",
       "<p>4416 rows × 7 columns</p>\n",
       "</div>"
      ],
      "text/plain": [
       "                                   Open          High           Low  \\\n",
       "Datetime                                                              \n",
       "2023-07-03 06:00:00+00:00  30674.599609  30681.171875  30628.228516   \n",
       "2023-07-03 07:00:00+00:00  30651.351562  30746.455078  30644.861328   \n",
       "2023-07-03 08:00:00+00:00  30675.458984  30695.072266  30618.410156   \n",
       "2023-07-03 09:00:00+00:00  30645.107422  30668.294922  30611.462891   \n",
       "2023-07-03 10:00:00+00:00  30612.115234  30666.218750  30605.658203   \n",
       "...                                 ...           ...           ...   \n",
       "2024-01-03 02:00:00+00:00  45326.062500  45406.113281  45252.988281   \n",
       "2024-01-03 03:00:00+00:00  45294.312500  45318.109375  45206.195312   \n",
       "2024-01-03 04:00:00+00:00  45280.339844  45288.914062  45153.636719   \n",
       "2024-01-03 05:00:00+00:00  45196.199219  45301.718750  45159.972656   \n",
       "2024-01-03 06:00:00+00:00  45195.441406  45228.691406  45178.714844   \n",
       "\n",
       "                                  Close     Volume  Dividends  Stock Splits  \n",
       "Datetime                                                                     \n",
       "2023-07-03 06:00:00+00:00  30646.968750          0        0.0           0.0  \n",
       "2023-07-03 07:00:00+00:00  30668.576172  287362048        0.0           0.0  \n",
       "2023-07-03 08:00:00+00:00  30645.914062  227468288        0.0           0.0  \n",
       "2023-07-03 09:00:00+00:00  30611.462891   64418816        0.0           0.0  \n",
       "2023-07-03 10:00:00+00:00  30652.933594  166940672        0.0           0.0  \n",
       "...                                 ...        ...        ...           ...  \n",
       "2024-01-03 02:00:00+00:00  45280.042969          0        0.0           0.0  \n",
       "2024-01-03 03:00:00+00:00  45264.617188    1206272        0.0           0.0  \n",
       "2024-01-03 04:00:00+00:00  45193.871094    5404672        0.0           0.0  \n",
       "2024-01-03 05:00:00+00:00  45194.214844   34723840        0.0           0.0  \n",
       "2024-01-03 06:00:00+00:00  45228.691406   40957952        0.0           0.0  \n",
       "\n",
       "[4416 rows x 7 columns]"
      ]
     },
     "execution_count": 5,
     "metadata": {},
     "output_type": "execute_result"
    }
   ],
   "source": [
    "df"
   ]
  },
  {
   "cell_type": "code",
   "execution_count": 6,
   "id": "bc97e676-000b-478a-a767-6f2c6e22c6f2",
   "metadata": {},
   "outputs": [
    {
     "data": {
      "text/plain": [
       "4416"
      ]
     },
     "execution_count": 6,
     "metadata": {},
     "output_type": "execute_result"
    }
   ],
   "source": [
    "table_name = \"btc_price_data\"\n",
    "df.to_sql(table_name, engine, if_exists='replace', index=True)"
   ]
  },
  {
   "cell_type": "code",
   "execution_count": 7,
   "id": "6d20cc85-c3e6-41a8-9fd0-93b025f8b776",
   "metadata": {},
   "outputs": [
    {
     "name": "stdout",
     "output_type": "stream",
     "text": [
      "[(datetime.datetime(2023, 7, 3, 6, 0), 30674.599609375, 30681.171875, 30628.228515625, 30646.96875, 0, 0.0, 0.0), (datetime.datetime(2023, 7, 3, 7, 0), 30651.3515625, 30746.455078125, 30644.861328125, 30668.576171875, 287362048, 0.0, 0.0), (datetime.datetime(2023, 7, 3, 8, 0), 30675.458984375, 30695.072265625, 30618.41015625, 30645.9140625, 227468288, 0.0, 0.0), (datetime.datetime(2023, 7, 3, 9, 0), 30645.107421875, 30668.294921875, 30611.462890625, 30611.462890625, 64418816, 0.0, 0.0), (datetime.datetime(2023, 7, 3, 10, 0), 30612.115234375, 30666.21875, 30605.658203125, 30652.93359375, 166940672, 0.0, 0.0), (datetime.datetime(2023, 7, 3, 11, 0), 30652.357421875, 30673.73046875, 30628.65234375, 30648.7578125, 275812352, 0.0, 0.0), (datetime.datetime(2023, 7, 3, 12, 0), 30640.31640625, 30640.31640625, 30586.513671875, 30637.892578125, 268482560, 0.0, 0.0), (datetime.datetime(2023, 7, 3, 13, 0), 30653.400390625, 30691.912109375, 30617.154296875, 30653.873046875, 191156224, 0.0, 0.0), (datetime.datetime(2023, 7, 3, 14, 0), 30662.95703125, 30754.716796875, 30662.95703125, 30727.99609375, 130143232, 0.0, 0.0), (datetime.datetime(2023, 7, 3, 15, 0), 30751.595703125, 31119.783203125, 30751.595703125, 31056.48828125, 755219456, 0.0, 0.0)]\n"
     ]
    }
   ],
   "source": [
    "with engine.connect() as conn:\n",
    "    results = conn.execute(text(f\"SELECT * FROM {table_name} LIMIT 10\"))\n",
    "    print(results.all())"
   ]
  },
  {
   "cell_type": "code",
   "execution_count": null,
   "id": "fb2ffcd6-6287-41c0-be0c-e18371ebdaa5",
   "metadata": {},
   "outputs": [],
   "source": []
  }
 ],
 "metadata": {
  "kernelspec": {
   "display_name": "Python 3 (ipykernel)",
   "language": "python",
   "name": "python3"
  },
  "language_info": {
   "codemirror_mode": {
    "name": "ipython",
    "version": 3
   },
   "file_extension": ".py",
   "mimetype": "text/x-python",
   "name": "python",
   "nbconvert_exporter": "python",
   "pygments_lexer": "ipython3",
   "version": "3.8.18"
  }
 },
 "nbformat": 4,
 "nbformat_minor": 5
}
