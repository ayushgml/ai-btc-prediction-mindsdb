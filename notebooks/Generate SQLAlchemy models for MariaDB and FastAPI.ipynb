{
 "cells": [
  {
   "cell_type": "code",
   "execution_count": 1,
   "id": "33df054e-d2ea-4ae0-9098-c16e33722874",
   "metadata": {},
   "outputs": [],
   "source": [
    "from env import config\n",
    "from sqlalchemy import create_engine, Column, DateTime, Float, Integer\n",
    "from sqlalchemy.orm import sessionmaker, DeclarativeBase\n",
    "\n",
    "class Base(DeclarativeBase):\n",
    "    pass"
   ]
  },
  {
   "cell_type": "code",
   "execution_count": 2,
   "id": "a47cf472-c3bd-47f8-aa88-209fa527293a",
   "metadata": {},
   "outputs": [
    {
     "data": {
      "text/plain": [
       "True"
      ]
     },
     "execution_count": 2,
     "metadata": {},
     "output_type": "execute_result"
    }
   ],
   "source": [
    "DATABASE_URL = config(\"DATABASE_URL\", cast=str, default=None)\n",
    "DATABASE_URL is not None"
   ]
  },
  {
   "cell_type": "code",
   "execution_count": 3,
   "id": "b13ceeeb-2b54-4b58-8802-bff39b0af455",
   "metadata": {},
   "outputs": [],
   "source": [
    "engine = create_engine(str(DATABASE_URL))"
   ]
  },
  {
   "cell_type": "code",
   "execution_count": 4,
   "id": "b3679306-d549-4de9-8cd0-62d8d0070c60",
   "metadata": {},
   "outputs": [],
   "source": [
    "# index\n",
    "# Open            float64\n",
    "# High            float64\n",
    "# Low             float64\n",
    "# Close           float64\n",
    "# Volume            int64\n",
    "# Dividends       float64\n",
    "# Stock Splits    float64\n",
    "# dtype: object"
   ]
  },
  {
   "cell_type": "code",
   "execution_count": 5,
   "id": "505ebce7-a652-41f7-ad15-c7997b26516b",
   "metadata": {},
   "outputs": [],
   "source": [
    "class BTCPrice(Base):\n",
    "    __tablename__ = \"btc_price_data\"\n",
    "    __table_args__ = {\"extend_existing\":True}\n",
    "    Datetime = Column(\"Datetime\", DateTime, primary_key=True)\n",
    "    Open = Column(\"Open\", Float)\n",
    "    High = Column(\"High\", Float)\n",
    "    Low = Column(\"Low\", Float)\n",
    "    Close = Column(\"Close\", Float)\n",
    "    Volume = Column(\"Volume\", Integer)\n",
    "    Dividends = Column(\"Dividends\", Float)\n",
    "    Stock_Splits = Column(\"Stock Splits\", Float)"
   ]
  },
  {
   "cell_type": "code",
   "execution_count": null,
   "id": "5b6d3ba2-44d2-46e8-aa7f-acf7d6fa3993",
   "metadata": {},
   "outputs": [],
   "source": []
  },
  {
   "cell_type": "code",
   "execution_count": 6,
   "id": "2452864f-21bd-40ea-98b6-b28896c49aa4",
   "metadata": {},
   "outputs": [],
   "source": [
    "from datetime import datetime\n",
    "from pydantic import BaseModel\n",
    "class BTCPriceSchema(BaseModel):\n",
    "    Datetime : datetime\n",
    "    Open : float\n",
    "    High : float\n",
    "    Low : float\n",
    "    Close : float\n",
    "    Volume : int\n",
    "    Dividends : float\n",
    "    Stock_Splits : float\n",
    "\n",
    "    class Config:\n",
    "        from_attributes = True"
   ]
  },
  {
   "cell_type": "code",
   "execution_count": 7,
   "id": "b593d77b-45e9-46bf-9f0b-2a8daa8b05f6",
   "metadata": {},
   "outputs": [
    {
     "name": "stderr",
     "output_type": "stream",
     "text": [
      "/var/folders/c3/2_9zcb3s2s9bjfs2037dbdw40000gn/T/ipykernel_15243/4249216271.py:6: PydanticDeprecatedSince20: The `from_orm` method is deprecated; set `model_config['from_attributes']=True` and use `model_validate` instead. Deprecated in Pydantic V2.0 to be removed in V3.0. See Pydantic V2 Migration Guide at https://errors.pydantic.dev/2.5/migration/\n",
      "  data = BTCPriceSchema.from_orm(row_value)\n",
      "/var/folders/c3/2_9zcb3s2s9bjfs2037dbdw40000gn/T/ipykernel_15243/4249216271.py:8: PydanticDeprecatedSince20: The `json` method is deprecated; use `model_dump_json` instead. Deprecated in Pydantic V2.0 to be removed in V3.0. See Pydantic V2 Migration Guide at https://errors.pydantic.dev/2.5/migration/\n",
      "  print(data.json())\n"
     ]
    },
    {
     "name": "stdout",
     "output_type": "stream",
     "text": [
      "{\"Datetime\":\"2023-07-03T06:00:00\",\"Open\":30674.599609375,\"High\":30681.171875,\"Low\":30628.228515625,\"Close\":30646.96875,\"Volume\":0,\"Dividends\":0.0,\"Stock_Splits\":0.0}\n",
      "{\"Datetime\":\"2023-07-03T07:00:00\",\"Open\":30651.3515625,\"High\":30746.455078125,\"Low\":30644.861328125,\"Close\":30668.576171875,\"Volume\":287362048,\"Dividends\":0.0,\"Stock_Splits\":0.0}\n",
      "{\"Datetime\":\"2023-07-03T08:00:00\",\"Open\":30675.458984375,\"High\":30695.072265625,\"Low\":30618.41015625,\"Close\":30645.9140625,\"Volume\":227468288,\"Dividends\":0.0,\"Stock_Splits\":0.0}\n",
      "{\"Datetime\":\"2023-07-03T09:00:00\",\"Open\":30645.107421875,\"High\":30668.294921875,\"Low\":30611.462890625,\"Close\":30611.462890625,\"Volume\":64418816,\"Dividends\":0.0,\"Stock_Splits\":0.0}\n",
      "{\"Datetime\":\"2023-07-03T10:00:00\",\"Open\":30612.115234375,\"High\":30666.21875,\"Low\":30605.658203125,\"Close\":30652.93359375,\"Volume\":166940672,\"Dividends\":0.0,\"Stock_Splits\":0.0}\n",
      "{\"Datetime\":\"2023-07-03T11:00:00\",\"Open\":30652.357421875,\"High\":30673.73046875,\"Low\":30628.65234375,\"Close\":30648.7578125,\"Volume\":275812352,\"Dividends\":0.0,\"Stock_Splits\":0.0}\n",
      "{\"Datetime\":\"2023-07-03T12:00:00\",\"Open\":30640.31640625,\"High\":30640.31640625,\"Low\":30586.513671875,\"Close\":30637.892578125,\"Volume\":268482560,\"Dividends\":0.0,\"Stock_Splits\":0.0}\n",
      "{\"Datetime\":\"2023-07-03T13:00:00\",\"Open\":30653.400390625,\"High\":30691.912109375,\"Low\":30617.154296875,\"Close\":30653.873046875,\"Volume\":191156224,\"Dividends\":0.0,\"Stock_Splits\":0.0}\n",
      "{\"Datetime\":\"2023-07-03T14:00:00\",\"Open\":30662.95703125,\"High\":30754.716796875,\"Low\":30662.95703125,\"Close\":30727.99609375,\"Volume\":130143232,\"Dividends\":0.0,\"Stock_Splits\":0.0}\n",
      "{\"Datetime\":\"2023-07-03T15:00:00\",\"Open\":30751.595703125,\"High\":31119.783203125,\"Low\":30751.595703125,\"Close\":31056.48828125,\"Volume\":755219456,\"Dividends\":0.0,\"Stock_Splits\":0.0}\n"
     ]
    }
   ],
   "source": [
    "SessionLocal = sessionmaker(bind=engine)\n",
    "session = SessionLocal()\n",
    "\n",
    "queryset = session.query(BTCPrice).limit(10).all()\n",
    "for row_value in queryset:\n",
    "    data = BTCPriceSchema.from_orm(row_value)\n",
    "    \n",
    "    print(data.json())\n",
    "\n",
    "session.close()"
   ]
  },
  {
   "cell_type": "code",
   "execution_count": null,
   "id": "e6ec8cbd-64f6-436a-97a9-bbf4738f26fc",
   "metadata": {},
   "outputs": [],
   "source": []
  }
 ],
 "metadata": {
  "kernelspec": {
   "display_name": "Python 3 (ipykernel)",
   "language": "python",
   "name": "python3"
  },
  "language_info": {
   "codemirror_mode": {
    "name": "ipython",
    "version": 3
   },
   "file_extension": ".py",
   "mimetype": "text/x-python",
   "name": "python",
   "nbconvert_exporter": "python",
   "pygments_lexer": "ipython3",
   "version": "3.8.18"
  }
 },
 "nbformat": 4,
 "nbformat_minor": 5
}
