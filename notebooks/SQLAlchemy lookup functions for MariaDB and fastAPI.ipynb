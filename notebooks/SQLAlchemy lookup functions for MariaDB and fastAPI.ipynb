{
 "cells": [
  {
   "cell_type": "code",
   "execution_count": 1,
   "id": "33df054e-d2ea-4ae0-9098-c16e33722874",
   "metadata": {},
   "outputs": [],
   "source": [
    "from env import config\n",
    "from sqlalchemy import create_engine, Column, DateTime, Float, Integer, text\n",
    "from sqlalchemy.orm import sessionmaker, DeclarativeBase\n",
    "\n",
    "class Base(DeclarativeBase):\n",
    "    pass"
   ]
  },
  {
   "cell_type": "code",
   "execution_count": 2,
   "id": "a47cf472-c3bd-47f8-aa88-209fa527293a",
   "metadata": {},
   "outputs": [
    {
     "data": {
      "text/plain": [
       "True"
      ]
     },
     "execution_count": 2,
     "metadata": {},
     "output_type": "execute_result"
    }
   ],
   "source": [
    "DATABASE_URL = config(\"DATABASE_URL\", cast=str, default=None)\n",
    "DATABASE_URL is not None"
   ]
  },
  {
   "cell_type": "code",
   "execution_count": 3,
   "id": "b13ceeeb-2b54-4b58-8802-bff39b0af455",
   "metadata": {},
   "outputs": [],
   "source": [
    "engine = create_engine(str(DATABASE_URL))"
   ]
  },
  {
   "cell_type": "code",
   "execution_count": 4,
   "id": "9707ffd2-c89b-4a76-8c04-42470879a3d5",
   "metadata": {},
   "outputs": [],
   "source": [
    "class BTCPrice(Base):\n",
    "    __tablename__ = \"btc_price_data\"\n",
    "    __table_args__ = {\"extend_existing\":True}\n",
    "    Datetime = Column(\"Datetime\", DateTime, primary_key=True)\n",
    "    Open = Column(\"Open\", Float)\n",
    "    High = Column(\"High\", Float)\n",
    "    Low = Column(\"Low\", Float)\n",
    "    Close = Column(\"Close\", Float)\n",
    "    Volume = Column(\"Volume\", Integer)\n",
    "    Dividends = Column(\"Dividends\", Float)\n",
    "    Stock_Splits = Column(\"Stock Splits\", Float)"
   ]
  },
  {
   "cell_type": "code",
   "execution_count": 12,
   "id": "5e8394c0-fc4a-4580-a5c4-b3d8b79e5020",
   "metadata": {},
   "outputs": [],
   "source": [
    "def get_btc_prices(session, offset=0, limit=100):\n",
    "    return session.query(BTCPrice).offset(offset).limit(limit).all()"
   ]
  },
  {
   "cell_type": "code",
   "execution_count": 17,
   "id": "b593d77b-45e9-46bf-9f0b-2a8daa8b05f6",
   "metadata": {},
   "outputs": [
    {
     "name": "stdout",
     "output_type": "stream",
     "text": [
      "[datetime.datetime(2023, 12, 4, 13, 0), datetime.datetime(2023, 12, 4, 14, 0), datetime.datetime(2023, 12, 4, 15, 0), datetime.datetime(2023, 12, 4, 16, 0), datetime.datetime(2023, 12, 4, 17, 0), datetime.datetime(2023, 12, 4, 18, 0), datetime.datetime(2023, 12, 4, 19, 0), datetime.datetime(2023, 12, 4, 20, 0), datetime.datetime(2023, 12, 4, 21, 0), datetime.datetime(2023, 12, 4, 22, 0), datetime.datetime(2023, 12, 4, 23, 0), datetime.datetime(2023, 12, 5, 0, 0), datetime.datetime(2023, 12, 5, 1, 0), datetime.datetime(2023, 12, 5, 2, 0), datetime.datetime(2023, 12, 5, 3, 0), datetime.datetime(2023, 12, 5, 4, 0), datetime.datetime(2023, 12, 5, 5, 0), datetime.datetime(2023, 12, 5, 6, 0), datetime.datetime(2023, 12, 5, 7, 0), datetime.datetime(2023, 12, 5, 8, 0), datetime.datetime(2023, 12, 5, 9, 0), datetime.datetime(2023, 12, 5, 10, 0), datetime.datetime(2023, 12, 5, 11, 0), datetime.datetime(2023, 12, 5, 12, 0), datetime.datetime(2023, 12, 5, 13, 0), datetime.datetime(2023, 12, 5, 14, 0), datetime.datetime(2023, 12, 5, 15, 0), datetime.datetime(2023, 12, 5, 16, 0), datetime.datetime(2023, 12, 5, 17, 0), datetime.datetime(2023, 12, 5, 18, 0), datetime.datetime(2023, 12, 5, 19, 0), datetime.datetime(2023, 12, 5, 20, 0), datetime.datetime(2023, 12, 5, 21, 0), datetime.datetime(2023, 12, 5, 22, 0), datetime.datetime(2023, 12, 5, 23, 0), datetime.datetime(2023, 12, 6, 0, 0), datetime.datetime(2023, 12, 6, 1, 0), datetime.datetime(2023, 12, 6, 2, 0), datetime.datetime(2023, 12, 6, 3, 0), datetime.datetime(2023, 12, 6, 4, 0), datetime.datetime(2023, 12, 6, 5, 0), datetime.datetime(2023, 12, 6, 6, 0), datetime.datetime(2023, 12, 6, 7, 0), datetime.datetime(2023, 12, 6, 8, 0), datetime.datetime(2023, 12, 6, 9, 0), datetime.datetime(2023, 12, 6, 10, 0), datetime.datetime(2023, 12, 6, 11, 0), datetime.datetime(2023, 12, 6, 12, 0), datetime.datetime(2023, 12, 6, 13, 0), datetime.datetime(2023, 12, 6, 14, 0), datetime.datetime(2023, 12, 6, 15, 0), datetime.datetime(2023, 12, 6, 16, 0), datetime.datetime(2023, 12, 6, 17, 0), datetime.datetime(2023, 12, 6, 18, 0), datetime.datetime(2023, 12, 6, 19, 0), datetime.datetime(2023, 12, 6, 20, 0), datetime.datetime(2023, 12, 6, 21, 0), datetime.datetime(2023, 12, 6, 22, 0), datetime.datetime(2023, 12, 6, 23, 0), datetime.datetime(2023, 12, 7, 0, 0), datetime.datetime(2023, 12, 7, 1, 0), datetime.datetime(2023, 12, 7, 2, 0), datetime.datetime(2023, 12, 7, 3, 0), datetime.datetime(2023, 12, 7, 4, 0), datetime.datetime(2023, 12, 7, 5, 0), datetime.datetime(2023, 12, 7, 6, 0), datetime.datetime(2023, 12, 7, 7, 0), datetime.datetime(2023, 12, 7, 8, 0), datetime.datetime(2023, 12, 7, 9, 0), datetime.datetime(2023, 12, 7, 10, 0), datetime.datetime(2023, 12, 7, 11, 0), datetime.datetime(2023, 12, 7, 12, 0), datetime.datetime(2023, 12, 7, 13, 0), datetime.datetime(2023, 12, 7, 14, 0), datetime.datetime(2023, 12, 7, 15, 0), datetime.datetime(2023, 12, 7, 16, 0), datetime.datetime(2023, 12, 7, 17, 0), datetime.datetime(2023, 12, 7, 18, 0), datetime.datetime(2023, 12, 7, 19, 0), datetime.datetime(2023, 12, 7, 20, 0), datetime.datetime(2023, 12, 7, 21, 0), datetime.datetime(2023, 12, 7, 22, 0), datetime.datetime(2023, 12, 7, 23, 0), datetime.datetime(2023, 12, 8, 0, 0), datetime.datetime(2023, 12, 8, 1, 0), datetime.datetime(2023, 12, 8, 2, 0), datetime.datetime(2023, 12, 8, 3, 0), datetime.datetime(2023, 12, 8, 4, 0), datetime.datetime(2023, 12, 8, 5, 0), datetime.datetime(2023, 12, 8, 6, 0), datetime.datetime(2023, 12, 8, 7, 0), datetime.datetime(2023, 12, 8, 8, 0), datetime.datetime(2023, 12, 8, 9, 0), datetime.datetime(2023, 12, 8, 10, 0), datetime.datetime(2023, 12, 8, 11, 0), datetime.datetime(2023, 12, 8, 12, 0), datetime.datetime(2023, 12, 8, 13, 0), datetime.datetime(2023, 12, 8, 14, 0), datetime.datetime(2023, 12, 8, 15, 0), datetime.datetime(2023, 12, 8, 16, 0)]\n"
     ]
    }
   ],
   "source": [
    "SessionLocal = sessionmaker(bind=engine)\n",
    "session = SessionLocal()\n",
    "\n",
    "btc_prices = get_btc_prices(session)\n",
    "print([x.Datetime for x in btc_prices])\n",
    "\n",
    "session.close()"
   ]
  },
  {
   "cell_type": "code",
   "execution_count": null,
   "id": "e6ec8cbd-64f6-436a-97a9-bbf4738f26fc",
   "metadata": {},
   "outputs": [],
   "source": []
  }
 ],
 "metadata": {
  "kernelspec": {
   "display_name": "Python 3 (ipykernel)",
   "language": "python",
   "name": "python3"
  },
  "language_info": {
   "codemirror_mode": {
    "name": "ipython",
    "version": 3
   },
   "file_extension": ".py",
   "mimetype": "text/x-python",
   "name": "python",
   "nbconvert_exporter": "python",
   "pygments_lexer": "ipython3",
   "version": "3.8.18"
  }
 },
 "nbformat": 4,
 "nbformat_minor": 5
}
