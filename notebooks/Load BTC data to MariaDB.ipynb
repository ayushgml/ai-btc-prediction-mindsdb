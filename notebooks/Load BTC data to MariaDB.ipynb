{
 "cells": [
  {
   "cell_type": "code",
   "execution_count": 7,
   "id": "8f03d28f-0fc3-4a2f-ab81-3cb100b142c8",
   "metadata": {},
   "outputs": [],
   "source": [
    "import yfinance as yf\n",
    "import pandas as pd\n",
    "from sqlalchemy import create_engine, text\n",
    "from env import config"
   ]
  },
  {
   "cell_type": "code",
   "execution_count": 8,
   "id": "3623807f-f30c-4cb9-87cd-5e75b6383010",
   "metadata": {},
   "outputs": [
    {
     "data": {
      "text/plain": [
       "True"
      ]
     },
     "execution_count": 8,
     "metadata": {},
     "output_type": "execute_result"
    }
   ],
   "source": [
    "DATABASE_URL = config(\"DATABASE_URL\", cast=str, default=None)\n",
    "DATABASE_URL is not None"
   ]
  },
  {
   "cell_type": "code",
   "execution_count": 9,
   "id": "92ce7625-e298-486d-b0ad-d0bc846bfd62",
   "metadata": {},
   "outputs": [],
   "source": [
    "engine = create_engine(str(DATABASE_URL))"
   ]
  },
  {
   "cell_type": "code",
   "execution_count": 10,
   "id": "b0f9756e-c062-44f7-b08a-697125a0ea3c",
   "metadata": {},
   "outputs": [],
   "source": [
    "btc = yf.Ticker(\"BTC-USD\")\n",
    "df = btc.history(period=\"6mo\", interval=\"1h\")"
   ]
  },
  {
   "cell_type": "code",
   "execution_count": 11,
   "id": "b1ccc327-53f6-45a7-a0fb-bad9f2f85f55",
   "metadata": {},
   "outputs": [
    {
     "data": {
      "text/html": [
       "<div>\n",
       "<style scoped>\n",
       "    .dataframe tbody tr th:only-of-type {\n",
       "        vertical-align: middle;\n",
       "    }\n",
       "\n",
       "    .dataframe tbody tr th {\n",
       "        vertical-align: top;\n",
       "    }\n",
       "\n",
       "    .dataframe thead th {\n",
       "        text-align: right;\n",
       "    }\n",
       "</style>\n",
       "<table border=\"1\" class=\"dataframe\">\n",
       "  <thead>\n",
       "    <tr style=\"text-align: right;\">\n",
       "      <th></th>\n",
       "      <th>Open</th>\n",
       "      <th>High</th>\n",
       "      <th>Low</th>\n",
       "      <th>Close</th>\n",
       "      <th>Volume</th>\n",
       "      <th>Dividends</th>\n",
       "      <th>Stock Splits</th>\n",
       "    </tr>\n",
       "    <tr>\n",
       "      <th>Datetime</th>\n",
       "      <th></th>\n",
       "      <th></th>\n",
       "      <th></th>\n",
       "      <th></th>\n",
       "      <th></th>\n",
       "      <th></th>\n",
       "      <th></th>\n",
       "    </tr>\n",
       "  </thead>\n",
       "  <tbody>\n",
       "    <tr>\n",
       "      <th>2023-06-29 14:00:00+00:00</th>\n",
       "      <td>30601.869141</td>\n",
       "      <td>30644.109375</td>\n",
       "      <td>30419.296875</td>\n",
       "      <td>30459.607422</td>\n",
       "      <td>0</td>\n",
       "      <td>0.0</td>\n",
       "      <td>0.0</td>\n",
       "    </tr>\n",
       "    <tr>\n",
       "      <th>2023-06-29 15:00:00+00:00</th>\n",
       "      <td>30453.050781</td>\n",
       "      <td>30531.214844</td>\n",
       "      <td>30437.730469</td>\n",
       "      <td>30477.902344</td>\n",
       "      <td>0</td>\n",
       "      <td>0.0</td>\n",
       "      <td>0.0</td>\n",
       "    </tr>\n",
       "    <tr>\n",
       "      <th>2023-06-29 16:00:00+00:00</th>\n",
       "      <td>30474.136719</td>\n",
       "      <td>30556.808594</td>\n",
       "      <td>30474.136719</td>\n",
       "      <td>30500.802734</td>\n",
       "      <td>0</td>\n",
       "      <td>0.0</td>\n",
       "      <td>0.0</td>\n",
       "    </tr>\n",
       "    <tr>\n",
       "      <th>2023-06-29 17:00:00+00:00</th>\n",
       "      <td>30496.746094</td>\n",
       "      <td>30639.820312</td>\n",
       "      <td>30446.363281</td>\n",
       "      <td>30535.990234</td>\n",
       "      <td>0</td>\n",
       "      <td>0.0</td>\n",
       "      <td>0.0</td>\n",
       "    </tr>\n",
       "    <tr>\n",
       "      <th>2023-06-29 18:00:00+00:00</th>\n",
       "      <td>30539.128906</td>\n",
       "      <td>30610.484375</td>\n",
       "      <td>30515.318359</td>\n",
       "      <td>30572.707031</td>\n",
       "      <td>24939520</td>\n",
       "      <td>0.0</td>\n",
       "      <td>0.0</td>\n",
       "    </tr>\n",
       "    <tr>\n",
       "      <th>...</th>\n",
       "      <td>...</td>\n",
       "      <td>...</td>\n",
       "      <td>...</td>\n",
       "      <td>...</td>\n",
       "      <td>...</td>\n",
       "      <td>...</td>\n",
       "      <td>...</td>\n",
       "    </tr>\n",
       "    <tr>\n",
       "      <th>2023-12-29 10:00:00+00:00</th>\n",
       "      <td>42657.527344</td>\n",
       "      <td>42810.738281</td>\n",
       "      <td>42657.527344</td>\n",
       "      <td>42761.593750</td>\n",
       "      <td>145475584</td>\n",
       "      <td>0.0</td>\n",
       "      <td>0.0</td>\n",
       "    </tr>\n",
       "    <tr>\n",
       "      <th>2023-12-29 11:00:00+00:00</th>\n",
       "      <td>42731.996094</td>\n",
       "      <td>42934.066406</td>\n",
       "      <td>42724.546875</td>\n",
       "      <td>42920.796875</td>\n",
       "      <td>338888704</td>\n",
       "      <td>0.0</td>\n",
       "      <td>0.0</td>\n",
       "    </tr>\n",
       "    <tr>\n",
       "      <th>2023-12-29 12:00:00+00:00</th>\n",
       "      <td>42913.878906</td>\n",
       "      <td>42963.156250</td>\n",
       "      <td>42799.492188</td>\n",
       "      <td>42849.179688</td>\n",
       "      <td>98459648</td>\n",
       "      <td>0.0</td>\n",
       "      <td>0.0</td>\n",
       "    </tr>\n",
       "    <tr>\n",
       "      <th>2023-12-29 13:00:00+00:00</th>\n",
       "      <td>42854.785156</td>\n",
       "      <td>42892.738281</td>\n",
       "      <td>42746.992188</td>\n",
       "      <td>42826.664062</td>\n",
       "      <td>28100608</td>\n",
       "      <td>0.0</td>\n",
       "      <td>0.0</td>\n",
       "    </tr>\n",
       "    <tr>\n",
       "      <th>2023-12-29 14:00:00+00:00</th>\n",
       "      <td>42844.949219</td>\n",
       "      <td>42872.339844</td>\n",
       "      <td>42827.796875</td>\n",
       "      <td>42828.507812</td>\n",
       "      <td>1103872</td>\n",
       "      <td>0.0</td>\n",
       "      <td>0.0</td>\n",
       "    </tr>\n",
       "  </tbody>\n",
       "</table>\n",
       "<p>4392 rows × 7 columns</p>\n",
       "</div>"
      ],
      "text/plain": [
       "                                   Open          High           Low  \\\n",
       "Datetime                                                              \n",
       "2023-06-29 14:00:00+00:00  30601.869141  30644.109375  30419.296875   \n",
       "2023-06-29 15:00:00+00:00  30453.050781  30531.214844  30437.730469   \n",
       "2023-06-29 16:00:00+00:00  30474.136719  30556.808594  30474.136719   \n",
       "2023-06-29 17:00:00+00:00  30496.746094  30639.820312  30446.363281   \n",
       "2023-06-29 18:00:00+00:00  30539.128906  30610.484375  30515.318359   \n",
       "...                                 ...           ...           ...   \n",
       "2023-12-29 10:00:00+00:00  42657.527344  42810.738281  42657.527344   \n",
       "2023-12-29 11:00:00+00:00  42731.996094  42934.066406  42724.546875   \n",
       "2023-12-29 12:00:00+00:00  42913.878906  42963.156250  42799.492188   \n",
       "2023-12-29 13:00:00+00:00  42854.785156  42892.738281  42746.992188   \n",
       "2023-12-29 14:00:00+00:00  42844.949219  42872.339844  42827.796875   \n",
       "\n",
       "                                  Close     Volume  Dividends  Stock Splits  \n",
       "Datetime                                                                     \n",
       "2023-06-29 14:00:00+00:00  30459.607422          0        0.0           0.0  \n",
       "2023-06-29 15:00:00+00:00  30477.902344          0        0.0           0.0  \n",
       "2023-06-29 16:00:00+00:00  30500.802734          0        0.0           0.0  \n",
       "2023-06-29 17:00:00+00:00  30535.990234          0        0.0           0.0  \n",
       "2023-06-29 18:00:00+00:00  30572.707031   24939520        0.0           0.0  \n",
       "...                                 ...        ...        ...           ...  \n",
       "2023-12-29 10:00:00+00:00  42761.593750  145475584        0.0           0.0  \n",
       "2023-12-29 11:00:00+00:00  42920.796875  338888704        0.0           0.0  \n",
       "2023-12-29 12:00:00+00:00  42849.179688   98459648        0.0           0.0  \n",
       "2023-12-29 13:00:00+00:00  42826.664062   28100608        0.0           0.0  \n",
       "2023-12-29 14:00:00+00:00  42828.507812    1103872        0.0           0.0  \n",
       "\n",
       "[4392 rows x 7 columns]"
      ]
     },
     "execution_count": 11,
     "metadata": {},
     "output_type": "execute_result"
    }
   ],
   "source": [
    "df"
   ]
  },
  {
   "cell_type": "code",
   "execution_count": 12,
   "id": "bc97e676-000b-478a-a767-6f2c6e22c6f2",
   "metadata": {},
   "outputs": [
    {
     "data": {
      "text/plain": [
       "4392"
      ]
     },
     "execution_count": 12,
     "metadata": {},
     "output_type": "execute_result"
    }
   ],
   "source": [
    "table_name = \"btc_price_data\"\n",
    "df.to_sql(table_name, engine, if_exists='replace', index=True)"
   ]
  },
  {
   "cell_type": "code",
   "execution_count": 13,
   "id": "6d20cc85-c3e6-41a8-9fd0-93b025f8b776",
   "metadata": {},
   "outputs": [
    {
     "name": "stdout",
     "output_type": "stream",
     "text": [
      "[(datetime.datetime(2023, 6, 29, 14, 0), 30601.869140625, 30644.109375, 30419.296875, 30459.607421875, 0, 0.0, 0.0), (datetime.datetime(2023, 6, 29, 15, 0), 30453.05078125, 30531.21484375, 30437.73046875, 30477.90234375, 0, 0.0, 0.0), (datetime.datetime(2023, 6, 29, 16, 0), 30474.13671875, 30556.80859375, 30474.13671875, 30500.802734375, 0, 0.0, 0.0), (datetime.datetime(2023, 6, 29, 17, 0), 30496.74609375, 30639.8203125, 30446.36328125, 30535.990234375, 0, 0.0, 0.0), (datetime.datetime(2023, 6, 29, 18, 0), 30539.12890625, 30610.484375, 30515.318359375, 30572.70703125, 24939520, 0.0, 0.0), (datetime.datetime(2023, 6, 29, 19, 0), 30563.767578125, 30596.470703125, 30490.560546875, 30596.470703125, 0, 0.0, 0.0), (datetime.datetime(2023, 6, 29, 20, 0), 30595.830078125, 30632.92578125, 30273.216796875, 30404.1484375, 415524864, 0.0, 0.0), (datetime.datetime(2023, 6, 29, 21, 0), 30406.349609375, 30442.90234375, 30369.322265625, 30416.703125, 0, 0.0, 0.0), (datetime.datetime(2023, 6, 29, 22, 0), 30412.48046875, 30453.705078125, 30408.71875, 30408.71875, 0, 0.0, 0.0), (datetime.datetime(2023, 6, 29, 23, 0), 30406.369140625, 30516.521484375, 30398.880859375, 30452.0546875, 43190272, 0.0, 0.0)]\n"
     ]
    }
   ],
   "source": [
    "with engine.connect() as conn:\n",
    "    results = conn.execute(text(f\"SELECT * FROM {table_name} LIMIT 10\"))\n",
    "    print(results.all())"
   ]
  },
  {
   "cell_type": "code",
   "execution_count": null,
   "id": "fb2ffcd6-6287-41c0-be0c-e18371ebdaa5",
   "metadata": {},
   "outputs": [],
   "source": []
  }
 ],
 "metadata": {
  "kernelspec": {
   "display_name": "Python 3 (ipykernel)",
   "language": "python",
   "name": "python3"
  },
  "language_info": {
   "codemirror_mode": {
    "name": "ipython",
    "version": 3
   },
   "file_extension": ".py",
   "mimetype": "text/x-python",
   "name": "python",
   "nbconvert_exporter": "python",
   "pygments_lexer": "ipython3",
   "version": "3.8.18"
  }
 },
 "nbformat": 4,
 "nbformat_minor": 5
}
