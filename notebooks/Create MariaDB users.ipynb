{
 "cells": [
  {
   "cell_type": "code",
   "execution_count": 15,
   "id": "df2f5629-a3ba-4d6f-9f36-7b65c0624bf8",
   "metadata": {},
   "outputs": [],
   "source": [
    "from env import config\n",
    "from sqlalchemy import create_engine, text\n",
    "from getpass import getpass"
   ]
  },
  {
   "cell_type": "code",
   "execution_count": 16,
   "id": "9500742e-ba5e-4670-a169-adbbd8b2be3c",
   "metadata": {},
   "outputs": [
    {
     "data": {
      "text/plain": [
       "True"
      ]
     },
     "execution_count": 16,
     "metadata": {},
     "output_type": "execute_result"
    }
   ],
   "source": [
    "DATABASE_URL = config(\"ROOT_USER_DATABASE_URL\", cast=str, default=None)\n",
    "DATABASE_URL is not None"
   ]
  },
  {
   "cell_type": "code",
   "execution_count": 17,
   "id": "0f8ecf7c-428a-4dba-a17f-9436ca6145c2",
   "metadata": {},
   "outputs": [],
   "source": [
    "engine = create_engine(DATABASE_URL)"
   ]
  },
  {
   "cell_type": "code",
   "execution_count": 18,
   "id": "90335158-ec4b-4de9-91a1-7379e6376b3c",
   "metadata": {},
   "outputs": [],
   "source": [
    "new_username = \"mindsdbroot\"\n",
    "new_pass = \"mindsdbroot\""
   ]
  },
  {
   "cell_type": "code",
   "execution_count": 19,
   "id": "42da4b80-7cbd-4331-841a-096889f1998d",
   "metadata": {},
   "outputs": [],
   "source": [
    "dbs = [\"btc_price\"]\n",
    "with engine.connect() as conn:\n",
    "    create_user_sql = f\"CREATE USER '{new_username}'@'%' IDENTIFIED BY '{new_pass}';\"\n",
    "    conn.execute(text(create_user_sql))\n",
    "\n",
    "    for db in dbs:\n",
    "        db_sql_perms = f\"GRANT ALL PRIVILEGES ON {db}.* TO '{new_username}'@'%';\"\n",
    "        conn.execute(text(db_sql_perms))\n",
    "    db_sql_new_dbs = f\"GRANT CREATE ON *.* TO '{new_username}'@'%';\"\n",
    "    conn.execute(text(db_sql_new_dbs))\n",
    "\n",
    "    conn.execute(text(\"FLUSH PRIVILEGES;\"))"
   ]
  },
  {
   "cell_type": "code",
   "execution_count": 20,
   "id": "c64e686f-8cb1-46e7-a70c-8ddd9148e674",
   "metadata": {},
   "outputs": [
    {
     "name": "stdout",
     "output_type": "stream",
     "text": [
      "[('btc_price',), ('information_schema',), ('mysql',), ('performance_schema',), ('sys',)]\n"
     ]
    }
   ],
   "source": [
    "with engine.connect() as conn:\n",
    "    results = conn.execute(text(\"SHOW DATABASES\"))\n",
    "    print(results.all())"
   ]
  },
  {
   "cell_type": "code",
   "execution_count": 18,
   "id": "e591b5d8-1d4a-47f2-bc25-5dab1dd98fae",
   "metadata": {},
   "outputs": [],
   "source": []
  },
  {
   "cell_type": "code",
   "execution_count": 63,
   "id": "87a8f4f0-0820-4069-a3f5-62c4eaa450c8",
   "metadata": {},
   "outputs": [],
   "source": []
  },
  {
   "cell_type": "code",
   "execution_count": 64,
   "id": "bf568ac4-eca6-4ab4-8ee3-c2b3c8406734",
   "metadata": {},
   "outputs": [],
   "source": []
  },
  {
   "cell_type": "code",
   "execution_count": 65,
   "id": "d534062e-7332-4929-8937-926a0be00a49",
   "metadata": {
    "scrolled": true
   },
   "outputs": [
    {
     "data": {
      "text/html": [
       "<div>\n",
       "<style scoped>\n",
       "    .dataframe tbody tr th:only-of-type {\n",
       "        vertical-align: middle;\n",
       "    }\n",
       "\n",
       "    .dataframe tbody tr th {\n",
       "        vertical-align: top;\n",
       "    }\n",
       "\n",
       "    .dataframe thead th {\n",
       "        text-align: right;\n",
       "    }\n",
       "</style>\n",
       "<table border=\"1\" class=\"dataframe\">\n",
       "  <thead>\n",
       "    <tr style=\"text-align: right;\">\n",
       "      <th></th>\n",
       "      <th>Open</th>\n",
       "      <th>High</th>\n",
       "      <th>Low</th>\n",
       "      <th>Close</th>\n",
       "      <th>Volume</th>\n",
       "      <th>Dividends</th>\n",
       "      <th>Stock Splits</th>\n",
       "    </tr>\n",
       "    <tr>\n",
       "      <th>Datetime</th>\n",
       "      <th></th>\n",
       "      <th></th>\n",
       "      <th></th>\n",
       "      <th></th>\n",
       "      <th></th>\n",
       "      <th></th>\n",
       "      <th></th>\n",
       "    </tr>\n",
       "  </thead>\n",
       "  <tbody>\n",
       "    <tr>\n",
       "      <th>2023-06-24 14:00:00+00:00</th>\n",
       "      <td>30657.111328</td>\n",
       "      <td>30722.279297</td>\n",
       "      <td>30632.900391</td>\n",
       "      <td>30695.025391</td>\n",
       "      <td>0</td>\n",
       "      <td>0.0</td>\n",
       "      <td>0.0</td>\n",
       "    </tr>\n",
       "    <tr>\n",
       "      <th>2023-06-24 15:00:00+00:00</th>\n",
       "      <td>30704.728516</td>\n",
       "      <td>30710.583984</td>\n",
       "      <td>30385.234375</td>\n",
       "      <td>30409.957031</td>\n",
       "      <td>0</td>\n",
       "      <td>0.0</td>\n",
       "      <td>0.0</td>\n",
       "    </tr>\n",
       "    <tr>\n",
       "      <th>2023-06-24 16:00:00+00:00</th>\n",
       "      <td>30406.611328</td>\n",
       "      <td>30509.166016</td>\n",
       "      <td>30290.146484</td>\n",
       "      <td>30507.400391</td>\n",
       "      <td>0</td>\n",
       "      <td>0.0</td>\n",
       "      <td>0.0</td>\n",
       "    </tr>\n",
       "    <tr>\n",
       "      <th>2023-06-24 17:00:00+00:00</th>\n",
       "      <td>30521.162109</td>\n",
       "      <td>30648.400391</td>\n",
       "      <td>30518.871094</td>\n",
       "      <td>30599.996094</td>\n",
       "      <td>0</td>\n",
       "      <td>0.0</td>\n",
       "      <td>0.0</td>\n",
       "    </tr>\n",
       "    <tr>\n",
       "      <th>2023-06-24 18:00:00+00:00</th>\n",
       "      <td>30596.775391</td>\n",
       "      <td>30705.515625</td>\n",
       "      <td>30591.207031</td>\n",
       "      <td>30653.119141</td>\n",
       "      <td>0</td>\n",
       "      <td>0.0</td>\n",
       "      <td>0.0</td>\n",
       "    </tr>\n",
       "    <tr>\n",
       "      <th>...</th>\n",
       "      <td>...</td>\n",
       "      <td>...</td>\n",
       "      <td>...</td>\n",
       "      <td>...</td>\n",
       "      <td>...</td>\n",
       "      <td>...</td>\n",
       "      <td>...</td>\n",
       "    </tr>\n",
       "    <tr>\n",
       "      <th>2023-12-24 10:00:00+00:00</th>\n",
       "      <td>43705.902344</td>\n",
       "      <td>43706.550781</td>\n",
       "      <td>43447.687500</td>\n",
       "      <td>43612.140625</td>\n",
       "      <td>470294528</td>\n",
       "      <td>0.0</td>\n",
       "      <td>0.0</td>\n",
       "    </tr>\n",
       "    <tr>\n",
       "      <th>2023-12-24 11:00:00+00:00</th>\n",
       "      <td>43618.898438</td>\n",
       "      <td>43660.289062</td>\n",
       "      <td>43578.890625</td>\n",
       "      <td>43652.601562</td>\n",
       "      <td>132624384</td>\n",
       "      <td>0.0</td>\n",
       "      <td>0.0</td>\n",
       "    </tr>\n",
       "    <tr>\n",
       "      <th>2023-12-24 12:00:00+00:00</th>\n",
       "      <td>43658.683594</td>\n",
       "      <td>43684.480469</td>\n",
       "      <td>43595.800781</td>\n",
       "      <td>43677.285156</td>\n",
       "      <td>59389952</td>\n",
       "      <td>0.0</td>\n",
       "      <td>0.0</td>\n",
       "    </tr>\n",
       "    <tr>\n",
       "      <th>2023-12-24 13:00:00+00:00</th>\n",
       "      <td>43678.675781</td>\n",
       "      <td>43793.699219</td>\n",
       "      <td>43659.925781</td>\n",
       "      <td>43793.699219</td>\n",
       "      <td>159499264</td>\n",
       "      <td>0.0</td>\n",
       "      <td>0.0</td>\n",
       "    </tr>\n",
       "    <tr>\n",
       "      <th>2023-12-24 14:00:00+00:00</th>\n",
       "      <td>43790.117188</td>\n",
       "      <td>43902.718750</td>\n",
       "      <td>43788.839844</td>\n",
       "      <td>43863.976562</td>\n",
       "      <td>250487808</td>\n",
       "      <td>0.0</td>\n",
       "      <td>0.0</td>\n",
       "    </tr>\n",
       "  </tbody>\n",
       "</table>\n",
       "<p>4392 rows × 7 columns</p>\n",
       "</div>"
      ],
      "text/plain": [
       "                                   Open          High           Low  \\\n",
       "Datetime                                                              \n",
       "2023-06-24 14:00:00+00:00  30657.111328  30722.279297  30632.900391   \n",
       "2023-06-24 15:00:00+00:00  30704.728516  30710.583984  30385.234375   \n",
       "2023-06-24 16:00:00+00:00  30406.611328  30509.166016  30290.146484   \n",
       "2023-06-24 17:00:00+00:00  30521.162109  30648.400391  30518.871094   \n",
       "2023-06-24 18:00:00+00:00  30596.775391  30705.515625  30591.207031   \n",
       "...                                 ...           ...           ...   \n",
       "2023-12-24 10:00:00+00:00  43705.902344  43706.550781  43447.687500   \n",
       "2023-12-24 11:00:00+00:00  43618.898438  43660.289062  43578.890625   \n",
       "2023-12-24 12:00:00+00:00  43658.683594  43684.480469  43595.800781   \n",
       "2023-12-24 13:00:00+00:00  43678.675781  43793.699219  43659.925781   \n",
       "2023-12-24 14:00:00+00:00  43790.117188  43902.718750  43788.839844   \n",
       "\n",
       "                                  Close     Volume  Dividends  Stock Splits  \n",
       "Datetime                                                                     \n",
       "2023-06-24 14:00:00+00:00  30695.025391          0        0.0           0.0  \n",
       "2023-06-24 15:00:00+00:00  30409.957031          0        0.0           0.0  \n",
       "2023-06-24 16:00:00+00:00  30507.400391          0        0.0           0.0  \n",
       "2023-06-24 17:00:00+00:00  30599.996094          0        0.0           0.0  \n",
       "2023-06-24 18:00:00+00:00  30653.119141          0        0.0           0.0  \n",
       "...                                 ...        ...        ...           ...  \n",
       "2023-12-24 10:00:00+00:00  43612.140625  470294528        0.0           0.0  \n",
       "2023-12-24 11:00:00+00:00  43652.601562  132624384        0.0           0.0  \n",
       "2023-12-24 12:00:00+00:00  43677.285156   59389952        0.0           0.0  \n",
       "2023-12-24 13:00:00+00:00  43793.699219  159499264        0.0           0.0  \n",
       "2023-12-24 14:00:00+00:00  43863.976562  250487808        0.0           0.0  \n",
       "\n",
       "[4392 rows x 7 columns]"
      ]
     },
     "execution_count": 65,
     "metadata": {},
     "output_type": "execute_result"
    }
   ],
   "source": []
  },
  {
   "cell_type": "code",
   "execution_count": null,
   "id": "34e426c5-ecea-42bc-8e61-6cb7c8fd55ca",
   "metadata": {},
   "outputs": [],
   "source": []
  },
  {
   "cell_type": "code",
   "execution_count": null,
   "id": "d4d0ee0f-6610-4060-b43a-ada00ac2229d",
   "metadata": {},
   "outputs": [],
   "source": []
  }
 ],
 "metadata": {
  "kernelspec": {
   "display_name": "Python 3 (ipykernel)",
   "language": "python",
   "name": "python3"
  },
  "language_info": {
   "codemirror_mode": {
    "name": "ipython",
    "version": 3
   },
   "file_extension": ".py",
   "mimetype": "text/x-python",
   "name": "python",
   "nbconvert_exporter": "python",
   "pygments_lexer": "ipython3",
   "version": "3.8.18"
  }
 },
 "nbformat": 4,
 "nbformat_minor": 5
}
