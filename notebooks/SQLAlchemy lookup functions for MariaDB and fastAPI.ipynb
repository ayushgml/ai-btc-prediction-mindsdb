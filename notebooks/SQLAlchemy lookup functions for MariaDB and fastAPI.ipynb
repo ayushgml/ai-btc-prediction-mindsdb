{
 "cells": [
  {
   "cell_type": "code",
   "execution_count": 25,
   "id": "33df054e-d2ea-4ae0-9098-c16e33722874",
   "metadata": {},
   "outputs": [],
   "source": [
    "from env import config\n",
    "from sqlalchemy import create_engine, Column, DateTime, Float, Integer, text\n",
    "from sqlalchemy.orm import sessionmaker, DeclarativeBase\n",
    "\n",
    "class Base(DeclarativeBase):\n",
    "    pass"
   ]
  },
  {
   "cell_type": "code",
   "execution_count": 26,
   "id": "a47cf472-c3bd-47f8-aa88-209fa527293a",
   "metadata": {},
   "outputs": [
    {
     "data": {
      "text/plain": [
       "True"
      ]
     },
     "execution_count": 26,
     "metadata": {},
     "output_type": "execute_result"
    }
   ],
   "source": [
    "DATABASE_URL = config(\"DATABASE_URL\", cast=str, default=None)\n",
    "DATABASE_URL is not None"
   ]
  },
  {
   "cell_type": "code",
   "execution_count": 27,
   "id": "b13ceeeb-2b54-4b58-8802-bff39b0af455",
   "metadata": {},
   "outputs": [],
   "source": [
    "engine = create_engine(str(DATABASE_URL))"
   ]
  },
  {
   "cell_type": "code",
   "execution_count": 28,
   "id": "9707ffd2-c89b-4a76-8c04-42470879a3d5",
   "metadata": {},
   "outputs": [],
   "source": [
    "class BTCPrice(Base):\n",
    "    __tablename__ = \"btc_price_data\"\n",
    "    __table_args__ = {\"extend_existing\":True}\n",
    "    Datetime = Column(\"Datetime\", DateTime, primary_key=True)\n",
    "    Open = Column(\"Open\", Float)\n",
    "    High = Column(\"High\", Float)\n",
    "    Low = Column(\"Low\", Float)\n",
    "    Close = Column(\"Close\", Float)\n",
    "    Volume = Column(\"Volume\", Integer)\n",
    "    Dividends = Column(\"Dividends\", Float)\n",
    "    Stock_Splits = Column(\"Stock Splits\", Float)"
   ]
  },
  {
   "cell_type": "code",
   "execution_count": 29,
   "id": "5e8394c0-fc4a-4580-a5c4-b3d8b79e5020",
   "metadata": {},
   "outputs": [],
   "source": [
    "def get_btc_prices(session, offset=0, limit=100):\n",
    "    return session.query(BTCPrice).offset(offset).limit(limit).all()"
   ]
  },
  {
   "cell_type": "code",
   "execution_count": 30,
   "id": "b593d77b-45e9-46bf-9f0b-2a8daa8b05f6",
   "metadata": {},
   "outputs": [
    {
     "name": "stdout",
     "output_type": "stream",
     "text": [
      "[datetime.datetime(2024, 1, 1, 19, 0), datetime.datetime(2024, 1, 1, 20, 0), datetime.datetime(2024, 1, 1, 21, 0), datetime.datetime(2024, 1, 1, 22, 0), datetime.datetime(2024, 1, 1, 23, 0), datetime.datetime(2024, 1, 2, 0, 0), datetime.datetime(2024, 1, 2, 1, 0), datetime.datetime(2024, 1, 2, 2, 0), datetime.datetime(2024, 1, 2, 3, 0), datetime.datetime(2024, 1, 2, 4, 0), datetime.datetime(2024, 1, 2, 5, 0), datetime.datetime(2024, 1, 2, 6, 0), datetime.datetime(2024, 1, 2, 7, 0), datetime.datetime(2024, 1, 2, 8, 0), datetime.datetime(2024, 1, 2, 9, 0), datetime.datetime(2024, 1, 2, 10, 0), datetime.datetime(2024, 1, 2, 11, 0), datetime.datetime(2024, 1, 2, 12, 0), datetime.datetime(2024, 1, 2, 13, 0), datetime.datetime(2024, 1, 2, 14, 0), datetime.datetime(2024, 1, 2, 15, 0), datetime.datetime(2024, 1, 2, 16, 0), datetime.datetime(2024, 1, 2, 17, 0), datetime.datetime(2024, 1, 2, 18, 0), datetime.datetime(2024, 1, 2, 19, 0), datetime.datetime(2024, 1, 2, 20, 0), datetime.datetime(2024, 1, 2, 21, 0), datetime.datetime(2024, 1, 2, 22, 0), datetime.datetime(2024, 1, 2, 23, 0), datetime.datetime(2024, 1, 3, 0, 0), datetime.datetime(2024, 1, 3, 1, 0), datetime.datetime(2024, 1, 3, 2, 0), datetime.datetime(2024, 1, 3, 3, 0), datetime.datetime(2024, 1, 3, 4, 0), datetime.datetime(2024, 1, 3, 5, 0), datetime.datetime(2024, 1, 3, 6, 0)]\n"
     ]
    }
   ],
   "source": [
    "SessionLocal = sessionmaker(bind=engine)\n",
    "session = SessionLocal()\n",
    "\n",
    "btc_prices = get_btc_prices(session, offset=4380)\n",
    "print([x.Datetime for x in btc_prices])\n",
    "\n",
    "session.close()"
   ]
  },
  {
   "cell_type": "code",
   "execution_count": null,
   "id": "e6ec8cbd-64f6-436a-97a9-bbf4738f26fc",
   "metadata": {},
   "outputs": [],
   "source": []
  }
 ],
 "metadata": {
  "kernelspec": {
   "display_name": "Python 3 (ipykernel)",
   "language": "python",
   "name": "python3"
  },
  "language_info": {
   "codemirror_mode": {
    "name": "ipython",
    "version": 3
   },
   "file_extension": ".py",
   "mimetype": "text/x-python",
   "name": "python",
   "nbconvert_exporter": "python",
   "pygments_lexer": "ipython3",
   "version": "3.8.18"
  }
 },
 "nbformat": 4,
 "nbformat_minor": 5
}
