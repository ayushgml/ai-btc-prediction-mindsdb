{
 "cells": [
  {
   "cell_type": "code",
   "execution_count": 1,
   "id": "33df054e-d2ea-4ae0-9098-c16e33722874",
   "metadata": {},
   "outputs": [],
   "source": [
    "from env import config\n",
    "from sqlalchemy import create_engine, Column, DateTime, Float, Integer\n",
    "from sqlalchemy.orm import sessionmaker, DeclarativeBase\n",
    "\n",
    "class Base(DeclarativeBase):\n",
    "    pass"
   ]
  },
  {
   "cell_type": "code",
   "execution_count": 2,
   "id": "a47cf472-c3bd-47f8-aa88-209fa527293a",
   "metadata": {},
   "outputs": [
    {
     "data": {
      "text/plain": [
       "True"
      ]
     },
     "execution_count": 2,
     "metadata": {},
     "output_type": "execute_result"
    }
   ],
   "source": [
    "DATABASE_URL = config(\"DATABASE_URL\", cast=str, default=None)\n",
    "DATABASE_URL is not None"
   ]
  },
  {
   "cell_type": "code",
   "execution_count": 3,
   "id": "b13ceeeb-2b54-4b58-8802-bff39b0af455",
   "metadata": {},
   "outputs": [],
   "source": [
    "engine = create_engine(str(DATABASE_URL))"
   ]
  },
  {
   "cell_type": "code",
   "execution_count": 29,
   "id": "b593d77b-45e9-46bf-9f0b-2a8daa8b05f6",
   "metadata": {},
   "outputs": [
    {
     "name": "stderr",
     "output_type": "stream",
     "text": [
      "/var/folders/c3/2_9zcb3s2s9bjfs2037dbdw40000gn/T/ipykernel_2737/4249216271.py:6: PydanticDeprecatedSince20: The `from_orm` method is deprecated; set `model_config['from_attributes']=True` and use `model_validate` instead. Deprecated in Pydantic V2.0 to be removed in V3.0. See Pydantic V2 Migration Guide at https://errors.pydantic.dev/2.5/migration/\n",
      "  data = BTCPriceSchema.from_orm(row_value)\n",
      "/var/folders/c3/2_9zcb3s2s9bjfs2037dbdw40000gn/T/ipykernel_2737/4249216271.py:8: PydanticDeprecatedSince20: The `json` method is deprecated; use `model_dump_json` instead. Deprecated in Pydantic V2.0 to be removed in V3.0. See Pydantic V2 Migration Guide at https://errors.pydantic.dev/2.5/migration/\n",
      "  print(data.json())\n"
     ]
    },
    {
     "name": "stdout",
     "output_type": "stream",
     "text": [
      "{\"Datetime\":\"2023-06-29T14:00:00\",\"Open\":30601.869140625,\"High\":30644.109375,\"Low\":30419.296875,\"Close\":30459.607421875,\"Volume\":0,\"Dividends\":0.0,\"Stock_Splits\":0.0}\n",
      "{\"Datetime\":\"2023-06-29T15:00:00\",\"Open\":30453.05078125,\"High\":30531.21484375,\"Low\":30437.73046875,\"Close\":30477.90234375,\"Volume\":0,\"Dividends\":0.0,\"Stock_Splits\":0.0}\n",
      "{\"Datetime\":\"2023-06-29T16:00:00\",\"Open\":30474.13671875,\"High\":30556.80859375,\"Low\":30474.13671875,\"Close\":30500.802734375,\"Volume\":0,\"Dividends\":0.0,\"Stock_Splits\":0.0}\n",
      "{\"Datetime\":\"2023-06-29T17:00:00\",\"Open\":30496.74609375,\"High\":30639.8203125,\"Low\":30446.36328125,\"Close\":30535.990234375,\"Volume\":0,\"Dividends\":0.0,\"Stock_Splits\":0.0}\n",
      "{\"Datetime\":\"2023-06-29T18:00:00\",\"Open\":30539.12890625,\"High\":30610.484375,\"Low\":30515.318359375,\"Close\":30572.70703125,\"Volume\":24939520,\"Dividends\":0.0,\"Stock_Splits\":0.0}\n",
      "{\"Datetime\":\"2023-06-29T19:00:00\",\"Open\":30563.767578125,\"High\":30596.470703125,\"Low\":30490.560546875,\"Close\":30596.470703125,\"Volume\":0,\"Dividends\":0.0,\"Stock_Splits\":0.0}\n",
      "{\"Datetime\":\"2023-06-29T20:00:00\",\"Open\":30595.830078125,\"High\":30632.92578125,\"Low\":30273.216796875,\"Close\":30404.1484375,\"Volume\":415524864,\"Dividends\":0.0,\"Stock_Splits\":0.0}\n",
      "{\"Datetime\":\"2023-06-29T21:00:00\",\"Open\":30406.349609375,\"High\":30442.90234375,\"Low\":30369.322265625,\"Close\":30416.703125,\"Volume\":0,\"Dividends\":0.0,\"Stock_Splits\":0.0}\n",
      "{\"Datetime\":\"2023-06-29T22:00:00\",\"Open\":30412.48046875,\"High\":30453.705078125,\"Low\":30408.71875,\"Close\":30408.71875,\"Volume\":0,\"Dividends\":0.0,\"Stock_Splits\":0.0}\n",
      "{\"Datetime\":\"2023-06-29T23:00:00\",\"Open\":30406.369140625,\"High\":30516.521484375,\"Low\":30398.880859375,\"Close\":30452.0546875,\"Volume\":43190272,\"Dividends\":0.0,\"Stock_Splits\":0.0}\n"
     ]
    }
   ],
   "source": [
    "SessionLocal = sessionmaker(bind=engine)\n",
    "session = SessionLocal()\n",
    "\n",
    "def get_btc_prices(session, offset=0, limit=100)\n",
    "\n",
    "session.close()"
   ]
  },
  {
   "cell_type": "code",
   "execution_count": null,
   "id": "e6ec8cbd-64f6-436a-97a9-bbf4738f26fc",
   "metadata": {},
   "outputs": [],
   "source": []
  }
 ],
 "metadata": {
  "kernelspec": {
   "display_name": "Python 3 (ipykernel)",
   "language": "python",
   "name": "python3"
  },
  "language_info": {
   "codemirror_mode": {
    "name": "ipython",
    "version": 3
   },
   "file_extension": ".py",
   "mimetype": "text/x-python",
   "name": "python",
   "nbconvert_exporter": "python",
   "pygments_lexer": "ipython3",
   "version": "3.8.18"
  }
 },
 "nbformat": 4,
 "nbformat_minor": 5
}
